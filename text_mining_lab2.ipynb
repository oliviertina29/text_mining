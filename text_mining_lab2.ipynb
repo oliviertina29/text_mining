{
 "cells": [
  {
   "cell_type": "markdown",
   "metadata": {},
   "source": [
    "# TINA Djara Olivier"
   ]
  },
  {
   "cell_type": "markdown",
   "metadata": {},
   "source": [
    "## Exercice 1"
   ]
  },
  {
   "cell_type": "code",
   "execution_count": 59,
   "metadata": {},
   "outputs": [],
   "source": [
    "import os\n",
    "import Levenshtein\n",
    "import numpy as np\n",
    "import scipy as sp\n",
    "import pandas as pd\n",
    "from nltk.tokenize import word_tokenize\n",
    "from nltk.corpus import stopwords\n",
    "from nltk.stem import PorterStemmer\n",
    "import string\n",
    "from scipy.spatial import distance\n",
    "from sklearn.metrics.pairwise import cosine_similarity\n",
    "import matplotlib.pyplot as plt\n",
    "from sklearn.decomposition import TruncatedSVD\n",
    "from sklearn.feature_extraction.text import TfidfVectorizer\n",
    "from gensim.models.doc2vec import Doc2Vec, TaggedDocument"
   ]
  },
  {
   "cell_type": "markdown",
   "metadata": {},
   "source": [
    "### 1. Récuperer le dataset du plagiarisme?"
   ]
  },
  {
   "cell_type": "code",
   "execution_count": 2,
   "metadata": {},
   "outputs": [],
   "source": [
    "## Texte original\n",
    "dossier = \"plagitat_corpus/plagitat_corpus/original\"\n",
    "text_wikipedia = []\n",
    "fichiers_dans_dossier = os.listdir(dossier)\n",
    "\n",
    "for nom_fichier in fichiers_dans_dossier:\n",
    "    chemin_complet = os.path.join(dossier, nom_fichier)\n",
    "    if os.path.isfile(chemin_complet) and nom_fichier.endswith(\".txt\"):\n",
    "        with open(chemin_complet, 'r', encoding='utf-8') as fichier:\n",
    "            contenu = fichier.read()\n",
    "            text_wikipedia.append(contenu)\n",
    "\n",
    "## Texte PA\n",
    "dossier1 = \"plagitat_corpus/plagitat_corpus/PA\"\n",
    "PA = []\n",
    "fichiers_dans_dossier = os.listdir(dossier1)\n",
    "\n",
    "for nom_fichier in fichiers_dans_dossier:\n",
    "    chemin_complet = os.path.join(dossier1, nom_fichier)\n",
    "    if os.path.isfile(chemin_complet) and nom_fichier.endswith(\".txt\"):\n",
    "        with open(chemin_complet, 'r', encoding='utf-8') as fichier:\n",
    "            contenu = fichier.read()\n",
    "            PA.append(contenu)\n",
    "\n",
    "## Texte PB\n",
    "dossier2 = \"plagitat_corpus/plagitat_corpus/PB\"\n",
    "PB = []\n",
    "fichiers_dans_dossier = os.listdir(dossier2)\n",
    "\n",
    "for nom_fichier in fichiers_dans_dossier:\n",
    "    chemin_complet = os.path.join(dossier2, nom_fichier)\n",
    "    if os.path.isfile(chemin_complet) and nom_fichier.endswith(\".txt\"):\n",
    "        with open(chemin_complet, 'r', encoding='utf-8') as fichier:\n",
    "            contenu = fichier.read()\n",
    "            PB.append(contenu)\n",
    "\n",
    "## Texte PC\n",
    "dossier3 = \"plagitat_corpus/plagitat_corpus/PC\"\n",
    "PC = []\n",
    "fichiers_dans_dossier = os.listdir(dossier3)\n",
    "\n",
    "for nom_fichier in fichiers_dans_dossier:\n",
    "    chemin_complet = os.path.join(dossier3, nom_fichier)\n",
    "    if os.path.isfile(chemin_complet) and nom_fichier.endswith(\".txt\"):\n",
    "        with open(chemin_complet, 'r', encoding='utf-8') as fichier:\n",
    "            contenu = fichier.read()\n",
    "            PC.append(contenu)\n",
    "\n",
    "## Texte PD\n",
    "dossier4 = \"plagitat_corpus/plagitat_corpus/PD\"\n",
    "PD = []\n",
    "fichiers_dans_dossier = os.listdir(dossier4)\n",
    "\n",
    "for nom_fichier in fichiers_dans_dossier:\n",
    "    chemin_complet = os.path.join(dossier4, nom_fichier)\n",
    "    if os.path.isfile(chemin_complet) and nom_fichier.endswith(\".txt\"):\n",
    "        with open(chemin_complet, 'r', encoding='utf-8') as fichier:\n",
    "            contenu = fichier.read()\n",
    "            PD.append(contenu)\n",
    "\n",
    "## Texte PE\n",
    "dossier5 = \"plagitat_corpus/plagitat_corpus/PE\"\n",
    "PE = []\n",
    "fichiers_dans_dossier = os.listdir(dossier5)\n",
    "\n",
    "for nom_fichier in fichiers_dans_dossier:\n",
    "    chemin_complet = os.path.join(dossier5, nom_fichier)\n",
    "    if os.path.isfile(chemin_complet) and nom_fichier.endswith(\".txt\"):\n",
    "        with open(chemin_complet, 'r', encoding='utf-8') as fichier:\n",
    "            contenu = fichier.read()\n",
    "\n",
    "            PE.append(contenu)"
   ]
  },
  {
   "cell_type": "code",
   "execution_count": 4,
   "metadata": {},
   "outputs": [
    {
     "data": {
      "text/html": [
       "<div>\n",
       "<style scoped>\n",
       "    .dataframe tbody tr th:only-of-type {\n",
       "        vertical-align: middle;\n",
       "    }\n",
       "\n",
       "    .dataframe tbody tr th {\n",
       "        vertical-align: top;\n",
       "    }\n",
       "\n",
       "    .dataframe thead th {\n",
       "        text-align: right;\n",
       "    }\n",
       "</style>\n",
       "<table border=\"1\" class=\"dataframe\">\n",
       "  <thead>\n",
       "    <tr style=\"text-align: right;\">\n",
       "      <th></th>\n",
       "      <th>Original</th>\n",
       "      <th>PA</th>\n",
       "      <th>PB</th>\n",
       "      <th>PC</th>\n",
       "      <th>PD</th>\n",
       "      <th>PE</th>\n",
       "    </tr>\n",
       "  </thead>\n",
       "  <tbody>\n",
       "    <tr>\n",
       "      <th>0</th>\n",
       "      <td>In probability theory, Bayes' theorem (often c...</td>\n",
       "      <td>Inheritance is a basic concept of Object-Orien...</td>\n",
       "      <td>Vector space model is an algebraic model for r...</td>\n",
       "      <td>In probability theory; Bayes theorem (often ca...</td>\n",
       "      <td>PageRank algorithm is patented by Stanford Uni...</td>\n",
       "      <td>Bayes Theorem is an important theorem relating...</td>\n",
       "    </tr>\n",
       "    <tr>\n",
       "      <th>1</th>\n",
       "      <td>In mathematics and computer science, dynamic p...</td>\n",
       "      <td>Dynamic Programming is an algorithm design tec...</td>\n",
       "      <td>Bayes' theorem relates the conditional and mar...</td>\n",
       "      <td>There are many attributes which infulance the ...</td>\n",
       "      <td>Dynamic programming (DP) is an extremely power...</td>\n",
       "      <td>The representation of a set of documents as ve...</td>\n",
       "    </tr>\n",
       "    <tr>\n",
       "      <th>2</th>\n",
       "      <td>Vector space model (or term vector model) is a...</td>\n",
       "      <td>The vector space model (also called, term vect...</td>\n",
       "      <td>Inheritance is a basic concept in object orien...</td>\n",
       "      <td>inheritance in object oriented programming is ...</td>\n",
       "      <td>Baye’s theorm in connection with conditional p...</td>\n",
       "      <td>PageRank is a link analysis algorithm used by ...</td>\n",
       "    </tr>\n",
       "    <tr>\n",
       "      <th>3</th>\n",
       "      <td>In object-oriented programming, inheritance is...</td>\n",
       "      <td>Bayes’ theorem was names after Rev Thomas Baye...</td>\n",
       "      <td>PageRank (PR) refers to both the concept and t...</td>\n",
       "      <td>In computer science; dynamic programming is a ...</td>\n",
       "      <td>Inheritance in object oriented programming is ...</td>\n",
       "      <td>dynamic programming is a method of solving pro...</td>\n",
       "    </tr>\n",
       "    <tr>\n",
       "      <th>4</th>\n",
       "      <td>PageRank is a link analysis algorithm used by ...</td>\n",
       "      <td>PageRank is a link analysis algorithm used by ...</td>\n",
       "      <td>Dynamic programming is a method for solving ma...</td>\n",
       "      <td>The vector space model is where each document ...</td>\n",
       "      <td>An algebraic model for representing text docum...</td>\n",
       "      <td>In object-oriented programming, inheritance is...</td>\n",
       "    </tr>\n",
       "  </tbody>\n",
       "</table>\n",
       "</div>"
      ],
      "text/plain": [
       "                                            Original  \\\n",
       "0  In probability theory, Bayes' theorem (often c...   \n",
       "1  In mathematics and computer science, dynamic p...   \n",
       "2  Vector space model (or term vector model) is a...   \n",
       "3  In object-oriented programming, inheritance is...   \n",
       "4  PageRank is a link analysis algorithm used by ...   \n",
       "\n",
       "                                                  PA  \\\n",
       "0  Inheritance is a basic concept of Object-Orien...   \n",
       "1  Dynamic Programming is an algorithm design tec...   \n",
       "2  The vector space model (also called, term vect...   \n",
       "3  Bayes’ theorem was names after Rev Thomas Baye...   \n",
       "4  PageRank is a link analysis algorithm used by ...   \n",
       "\n",
       "                                                  PB  \\\n",
       "0  Vector space model is an algebraic model for r...   \n",
       "1  Bayes' theorem relates the conditional and mar...   \n",
       "2  Inheritance is a basic concept in object orien...   \n",
       "3  PageRank (PR) refers to both the concept and t...   \n",
       "4  Dynamic programming is a method for solving ma...   \n",
       "\n",
       "                                                  PC  \\\n",
       "0  In probability theory; Bayes theorem (often ca...   \n",
       "1  There are many attributes which infulance the ...   \n",
       "2  inheritance in object oriented programming is ...   \n",
       "3  In computer science; dynamic programming is a ...   \n",
       "4  The vector space model is where each document ...   \n",
       "\n",
       "                                                  PD  \\\n",
       "0  PageRank algorithm is patented by Stanford Uni...   \n",
       "1  Dynamic programming (DP) is an extremely power...   \n",
       "2  Baye’s theorm in connection with conditional p...   \n",
       "3  Inheritance in object oriented programming is ...   \n",
       "4  An algebraic model for representing text docum...   \n",
       "\n",
       "                                                  PE  \n",
       "0  Bayes Theorem is an important theorem relating...  \n",
       "1  The representation of a set of documents as ve...  \n",
       "2  PageRank is a link analysis algorithm used by ...  \n",
       "3  dynamic programming is a method of solving pro...  \n",
       "4  In object-oriented programming, inheritance is...  "
      ]
     },
     "execution_count": 4,
     "metadata": {},
     "output_type": "execute_result"
    }
   ],
   "source": [
    "# Créer un dictionnaire avec les données\n",
    "data = {\n",
    "    'Original': text_wikipedia,\n",
    "    'PA': PA,\n",
    "    'PB': PB,\n",
    "    'PC': PC,\n",
    "    'PD': PD,\n",
    "    'PE': PE\n",
    "}\n",
    "\n",
    "# Créer le DataFrame\n",
    "df = pd.DataFrame(data)\n",
    "\n",
    "# Afficher le DataFrame\n",
    "df"
   ]
  },
  {
   "cell_type": "markdown",
   "metadata": {},
   "source": [
    "### 2. Réaliser les différentes tâches de prétraitement?"
   ]
  },
  {
   "cell_type": "code",
   "execution_count": 7,
   "metadata": {},
   "outputs": [],
   "source": [
    "# Téléchargez les stopwords\n",
    "stop_words = set(stopwords.words('english'))\n",
    "ps = PorterStemmer()\n",
    "\n",
    "def preprocess_text(text):\n",
    "    # Tokenization\n",
    "    words = word_tokenize(text)\n",
    "\n",
    "    # Prétraitement\n",
    "    words = [ps.stem(word.lower()) for word in words if word.isalnum() and word.lower() not in stop_words]\n",
    "\n",
    "    return ' '.join(words)\n",
    "\n",
    "# Appliquez le prétraitement à chaque colonne de votre DataFrame\n",
    "df['Original_Preprocessed'] = df['Original'].apply(preprocess_text)\n",
    "df[['PA_Preprocessed', 'PB_Preprocessed', 'PC_Preprocessed', 'PD_Preprocessed', 'PE_Preprocessed']] = df[['PA', 'PB', 'PC', 'PD', 'PE']].map(preprocess_text)\n"
   ]
  },
  {
   "cell_type": "code",
   "execution_count": 8,
   "metadata": {},
   "outputs": [
    {
     "data": {
      "text/html": [
       "<div>\n",
       "<style scoped>\n",
       "    .dataframe tbody tr th:only-of-type {\n",
       "        vertical-align: middle;\n",
       "    }\n",
       "\n",
       "    .dataframe tbody tr th {\n",
       "        vertical-align: top;\n",
       "    }\n",
       "\n",
       "    .dataframe thead th {\n",
       "        text-align: right;\n",
       "    }\n",
       "</style>\n",
       "<table border=\"1\" class=\"dataframe\">\n",
       "  <thead>\n",
       "    <tr style=\"text-align: right;\">\n",
       "      <th></th>\n",
       "      <th>Original</th>\n",
       "      <th>PA</th>\n",
       "      <th>PB</th>\n",
       "      <th>PC</th>\n",
       "      <th>PD</th>\n",
       "      <th>PE</th>\n",
       "      <th>Original_Preprocessed</th>\n",
       "      <th>PA_Preprocessed</th>\n",
       "      <th>PB_Preprocessed</th>\n",
       "      <th>PC_Preprocessed</th>\n",
       "      <th>PD_Preprocessed</th>\n",
       "      <th>PE_Preprocessed</th>\n",
       "    </tr>\n",
       "  </thead>\n",
       "  <tbody>\n",
       "    <tr>\n",
       "      <th>0</th>\n",
       "      <td>In probability theory, Bayes' theorem (often c...</td>\n",
       "      <td>Inheritance is a basic concept of Object-Orien...</td>\n",
       "      <td>Vector space model is an algebraic model for r...</td>\n",
       "      <td>In probability theory; Bayes theorem (often ca...</td>\n",
       "      <td>PageRank algorithm is patented by Stanford Uni...</td>\n",
       "      <td>Bayes Theorem is an important theorem relating...</td>\n",
       "      <td>probabl theori bay theorem often call bay law ...</td>\n",
       "      <td>inherit basic concept program basic idea creat...</td>\n",
       "      <td>vector space model algebra model repres text d...</td>\n",
       "      <td>probabl theori bay theorem often call bay law ...</td>\n",
       "      <td>pagerank algorithm patent stanford univers lin...</td>\n",
       "      <td>bay theorem import theorem relat condit probab...</td>\n",
       "    </tr>\n",
       "    <tr>\n",
       "      <th>1</th>\n",
       "      <td>In mathematics and computer science, dynamic p...</td>\n",
       "      <td>Dynamic Programming is an algorithm design tec...</td>\n",
       "      <td>Bayes' theorem relates the conditional and mar...</td>\n",
       "      <td>There are many attributes which infulance the ...</td>\n",
       "      <td>Dynamic programming (DP) is an extremely power...</td>\n",
       "      <td>The representation of a set of documents as ve...</td>\n",
       "      <td>mathemat comput scienc dynam program method so...</td>\n",
       "      <td>dynam program algorithm design techniqu use op...</td>\n",
       "      <td>bay theorem relat condit margin probabl two ra...</td>\n",
       "      <td>mani attribut inful rank page googl main conte...</td>\n",
       "      <td>dynam program dp extrem power gener tool solv ...</td>\n",
       "      <td>represent set document vector common vector sp...</td>\n",
       "    </tr>\n",
       "    <tr>\n",
       "      <th>2</th>\n",
       "      <td>Vector space model (or term vector model) is a...</td>\n",
       "      <td>The vector space model (also called, term vect...</td>\n",
       "      <td>Inheritance is a basic concept in object orien...</td>\n",
       "      <td>inheritance in object oriented programming is ...</td>\n",
       "      <td>Baye’s theorm in connection with conditional p...</td>\n",
       "      <td>PageRank is a link analysis algorithm used by ...</td>\n",
       "      <td>vector space model term vector model algebra m...</td>\n",
       "      <td>vector space model also call term vector model...</td>\n",
       "      <td>inherit basic concept object orient program mo...</td>\n",
       "      <td>inherit object orient program new class form u...</td>\n",
       "      <td>bay theorm connect condit probabl fundament im...</td>\n",
       "      <td>pagerank link analysi algorithm use googl inte...</td>\n",
       "    </tr>\n",
       "    <tr>\n",
       "      <th>3</th>\n",
       "      <td>In object-oriented programming, inheritance is...</td>\n",
       "      <td>Bayes’ theorem was names after Rev Thomas Baye...</td>\n",
       "      <td>PageRank (PR) refers to both the concept and t...</td>\n",
       "      <td>In computer science; dynamic programming is a ...</td>\n",
       "      <td>Inheritance in object oriented programming is ...</td>\n",
       "      <td>dynamic programming is a method of solving pro...</td>\n",
       "      <td>program inherit way form new class instanc cal...</td>\n",
       "      <td>bay theorem name rev thoma bay method use prob...</td>\n",
       "      <td>pagerank pr refer concept googl system use ran...</td>\n",
       "      <td>comput scienc dynam program way solv problem c...</td>\n",
       "      <td>inherit object orient program way form new cla...</td>\n",
       "      <td>dynam program method solv problem exhibit prop...</td>\n",
       "    </tr>\n",
       "    <tr>\n",
       "      <th>4</th>\n",
       "      <td>PageRank is a link analysis algorithm used by ...</td>\n",
       "      <td>PageRank is a link analysis algorithm used by ...</td>\n",
       "      <td>Dynamic programming is a method for solving ma...</td>\n",
       "      <td>The vector space model is where each document ...</td>\n",
       "      <td>An algebraic model for representing text docum...</td>\n",
       "      <td>In object-oriented programming, inheritance is...</td>\n",
       "      <td>pagerank link analysi algorithm use googl inte...</td>\n",
       "      <td>pagerank link analysi algorithm use googl inte...</td>\n",
       "      <td>dynam program method solv mathemat program pro...</td>\n",
       "      <td>vector space model document view bag word orde...</td>\n",
       "      <td>algebra model repres text document object gene...</td>\n",
       "      <td>program inherit way form new class instanc cal...</td>\n",
       "    </tr>\n",
       "  </tbody>\n",
       "</table>\n",
       "</div>"
      ],
      "text/plain": [
       "                                            Original  \\\n",
       "0  In probability theory, Bayes' theorem (often c...   \n",
       "1  In mathematics and computer science, dynamic p...   \n",
       "2  Vector space model (or term vector model) is a...   \n",
       "3  In object-oriented programming, inheritance is...   \n",
       "4  PageRank is a link analysis algorithm used by ...   \n",
       "\n",
       "                                                  PA  \\\n",
       "0  Inheritance is a basic concept of Object-Orien...   \n",
       "1  Dynamic Programming is an algorithm design tec...   \n",
       "2  The vector space model (also called, term vect...   \n",
       "3  Bayes’ theorem was names after Rev Thomas Baye...   \n",
       "4  PageRank is a link analysis algorithm used by ...   \n",
       "\n",
       "                                                  PB  \\\n",
       "0  Vector space model is an algebraic model for r...   \n",
       "1  Bayes' theorem relates the conditional and mar...   \n",
       "2  Inheritance is a basic concept in object orien...   \n",
       "3  PageRank (PR) refers to both the concept and t...   \n",
       "4  Dynamic programming is a method for solving ma...   \n",
       "\n",
       "                                                  PC  \\\n",
       "0  In probability theory; Bayes theorem (often ca...   \n",
       "1  There are many attributes which infulance the ...   \n",
       "2  inheritance in object oriented programming is ...   \n",
       "3  In computer science; dynamic programming is a ...   \n",
       "4  The vector space model is where each document ...   \n",
       "\n",
       "                                                  PD  \\\n",
       "0  PageRank algorithm is patented by Stanford Uni...   \n",
       "1  Dynamic programming (DP) is an extremely power...   \n",
       "2  Baye’s theorm in connection with conditional p...   \n",
       "3  Inheritance in object oriented programming is ...   \n",
       "4  An algebraic model for representing text docum...   \n",
       "\n",
       "                                                  PE  \\\n",
       "0  Bayes Theorem is an important theorem relating...   \n",
       "1  The representation of a set of documents as ve...   \n",
       "2  PageRank is a link analysis algorithm used by ...   \n",
       "3  dynamic programming is a method of solving pro...   \n",
       "4  In object-oriented programming, inheritance is...   \n",
       "\n",
       "                               Original_Preprocessed  \\\n",
       "0  probabl theori bay theorem often call bay law ...   \n",
       "1  mathemat comput scienc dynam program method so...   \n",
       "2  vector space model term vector model algebra m...   \n",
       "3  program inherit way form new class instanc cal...   \n",
       "4  pagerank link analysi algorithm use googl inte...   \n",
       "\n",
       "                                     PA_Preprocessed  \\\n",
       "0  inherit basic concept program basic idea creat...   \n",
       "1  dynam program algorithm design techniqu use op...   \n",
       "2  vector space model also call term vector model...   \n",
       "3  bay theorem name rev thoma bay method use prob...   \n",
       "4  pagerank link analysi algorithm use googl inte...   \n",
       "\n",
       "                                     PB_Preprocessed  \\\n",
       "0  vector space model algebra model repres text d...   \n",
       "1  bay theorem relat condit margin probabl two ra...   \n",
       "2  inherit basic concept object orient program mo...   \n",
       "3  pagerank pr refer concept googl system use ran...   \n",
       "4  dynam program method solv mathemat program pro...   \n",
       "\n",
       "                                     PC_Preprocessed  \\\n",
       "0  probabl theori bay theorem often call bay law ...   \n",
       "1  mani attribut inful rank page googl main conte...   \n",
       "2  inherit object orient program new class form u...   \n",
       "3  comput scienc dynam program way solv problem c...   \n",
       "4  vector space model document view bag word orde...   \n",
       "\n",
       "                                     PD_Preprocessed  \\\n",
       "0  pagerank algorithm patent stanford univers lin...   \n",
       "1  dynam program dp extrem power gener tool solv ...   \n",
       "2  bay theorm connect condit probabl fundament im...   \n",
       "3  inherit object orient program way form new cla...   \n",
       "4  algebra model repres text document object gene...   \n",
       "\n",
       "                                     PE_Preprocessed  \n",
       "0  bay theorem import theorem relat condit probab...  \n",
       "1  represent set document vector common vector sp...  \n",
       "2  pagerank link analysi algorithm use googl inte...  \n",
       "3  dynam program method solv problem exhibit prop...  \n",
       "4  program inherit way form new class instanc cal...  "
      ]
     },
     "execution_count": 8,
     "metadata": {},
     "output_type": "execute_result"
    }
   ],
   "source": [
    "df"
   ]
  },
  {
   "cell_type": "markdown",
   "metadata": {},
   "source": [
    "### 3. Récuperer la représetation vectorielle des differents document du corpus"
   ]
  },
  {
   "cell_type": "code",
   "execution_count": 20,
   "metadata": {},
   "outputs": [],
   "source": [
    "vectorizer = TfidfVectorizer()\n",
    "\n",
    "X_original = vectorizer.fit_transform(df['Original_Preprocessed'])\n",
    "X_PA = vectorizer.transform(df['PA_Preprocessed'])\n",
    "X_PB = vectorizer.transform(df['PB_Preprocessed'])\n",
    "X_PC = vectorizer.transform(df['PC_Preprocessed'])\n",
    "X_PD = vectorizer.transform(df['PD_Preprocessed'])\n",
    "X_PE = vectorizer.transform(df['PE_Preprocessed'])"
   ]
  },
  {
   "cell_type": "code",
   "execution_count": 32,
   "metadata": {},
   "outputs": [
    {
     "name": "stdout",
     "output_type": "stream",
     "text": [
      "  (0, 417)\t0.04444766226004289\n",
      "  (0, 257)\t0.025041037605139406\n",
      "  (0, 149)\t0.02976711743316479\n",
      "  (0, 192)\t0.04444766226004289\n",
      "  (0, 73)\t0.03586009404616324\n",
      "  (0, 249)\t0.04444766226004289\n",
      "  (0, 11)\t0.04444766226004289\n",
      "  (0, 421)\t0.02976711743316479\n",
      "  (0, 378)\t0.04444766226004289\n",
      "  (0, 418)\t0.03586009404616324\n",
      "  (0, 94)\t0.02976711743316479\n",
      "  (0, 95)\t0.02976711743316479\n",
      "  (0, 21)\t0.021179549219285148\n",
      "  (0, 184)\t0.02976711743316479\n",
      "  (0, 10)\t0.04444766226004289\n",
      "  (0, 394)\t0.02976711743316479\n",
      "  (0, 351)\t0.03586009404616324\n",
      "  (0, 291)\t0.13334298678012868\n",
      "  (0, 244)\t0.02976711743316479\n",
      "  (0, 79)\t0.04444766226004289\n",
      "  (0, 98)\t0.03586009404616324\n",
      "  (0, 161)\t0.04444766226004289\n",
      "  (0, 106)\t0.04444766226004289\n",
      "  (0, 35)\t0.04444766226004289\n",
      "  (0, 414)\t0.04444766226004289\n",
      "  :\t:\n",
      "  (4, 269)\t0.016760988392298875\n",
      "  (4, 445)\t0.03352197678459775\n",
      "  (4, 315)\t0.02019176433203547\n",
      "  (4, 331)\t0.016760988392298875\n",
      "  (4, 116)\t0.02019176433203547\n",
      "  (4, 24)\t0.02019176433203547\n",
      "  (4, 294)\t0.016760988392298875\n",
      "  (4, 261)\t0.02019176433203547\n",
      "  (4, 421)\t0.03352197678459775\n",
      "  (4, 418)\t0.02019176433203547\n",
      "  (4, 94)\t0.016760988392298875\n",
      "  (4, 95)\t0.016760988392298875\n",
      "  (4, 21)\t0.03577674385995988\n",
      "  (4, 244)\t0.016760988392298875\n",
      "  (4, 98)\t0.02019176433203547\n",
      "  (4, 96)\t0.014099871832508775\n",
      "  (4, 36)\t0.08076705732814188\n",
      "  (4, 433)\t0.014099871832508775\n",
      "  (4, 168)\t0.02019176433203547\n",
      "  (4, 191)\t0.02019176433203547\n",
      "  (4, 227)\t0.014099871832508775\n",
      "  (4, 157)\t0.016760988392298875\n",
      "  (4, 419)\t0.04770232514661318\n",
      "  (4, 52)\t0.014099871832508775\n",
      "  (4, 292)\t0.02019176433203547\n"
     ]
    }
   ],
   "source": [
    "print(X_original)"
   ]
  },
  {
   "cell_type": "markdown",
   "metadata": {},
   "source": [
    "### 4. Appliquer La SVD pour reduire la dimesion de la representation vectorielle des termes pour les representer dans un espace de dimension 2"
   ]
  },
  {
   "cell_type": "code",
   "execution_count": 24,
   "metadata": {},
   "outputs": [],
   "source": [
    "svd = TruncatedSVD(n_components=2)\n",
    "\n",
    "X_2d_original = svd.fit_transform(X_original)\n",
    "X_2d_PA = svd.fit_transform(X_PA)\n",
    "X_2d_PB = svd.fit_transform(X_PB)\n",
    "X_2d_PC = svd.fit_transform(X_PC)\n",
    "X_2d_PD = svd.fit_transform(X_PD)\n",
    "X_2d_PE = svd.fit_transform(X_PE)"
   ]
  },
  {
   "cell_type": "code",
   "execution_count": 26,
   "metadata": {},
   "outputs": [
    {
     "data": {
      "text/plain": [
       "array([[ 0.39726301,  0.44178123],\n",
       "       [ 0.56845373, -0.44465641],\n",
       "       [ 0.5467399 ,  0.17683724],\n",
       "       [ 0.51973967, -0.45708506],\n",
       "       [ 0.35896533,  0.6077036 ]])"
      ]
     },
     "execution_count": 26,
     "metadata": {},
     "output_type": "execute_result"
    }
   ],
   "source": [
    "X_2d_original"
   ]
  },
  {
   "cell_type": "markdown",
   "metadata": {},
   "source": [
    "### 5. Tracer les vecteurs obtenus en se servant de la bibliotheque matplolib"
   ]
  },
  {
   "cell_type": "code",
   "execution_count": 38,
   "metadata": {},
   "outputs": [
    {
     "data": {
      "image/png": "[encoded data removed]",
      "text/plain": [
       "<Figure size 640x480 with 1 Axes>"
      ]
     },
     "metadata": {},
     "output_type": "display_data"
    }
   ],
   "source": [
    "plt.scatter(X_2d_original[:, 0], X_2d_original[:, 1], c=['blue'], label='Original')\n",
    "plt.scatter(X_2d_PA[:, 0], X_2d_PA[:, 1], c=['green'], label='PA')\n",
    "plt.scatter(X_2d_PB[:, 0], X_2d_PB[:, 1], c=['red'], label='PB')\n",
    "plt.scatter(X_2d_PC[:, 0], X_2d_PC[:, 1], c=['yellow'], label='PC')\n",
    "plt.scatter(X_2d_PD[:, 0], X_2d_PD[:, 1], c=['purple'], label='PD')\n",
    "plt.scatter(X_2d_PE[:, 0], X_2d_PE[:, 1], c=['black'], label='PE')\n",
    "\n",
    "plt.legend()\n",
    "\n",
    "plt.title('Représentation vectorielle réduite des documents')\n",
    "plt.show()"
   ]
  },
  {
   "cell_type": "markdown",
   "metadata": {},
   "source": [
    "### 6. En se servant de la représentation vectorielle obtenue, calculer les similarités entre les réponses des étudiants et les définitions trouvées sur Wikipédia. Réaliser une représentation vectorielle des documents en se basant sur les représentations vectorielles de leurs mots (une moyenne par exemple) et utiliser par la suite la distance euclidienne ou la distance corsinus."
   ]
  },
  {
   "cell_type": "code",
   "execution_count": 39,
   "metadata": {},
   "outputs": [],
   "source": [
    "# Calculer la moyenne des représentations vectorielles pour chaque document\n",
    "\n",
    "def calculate_document_vectors(X_2d):\n",
    "    return np.mean(X_2d, axis=0)\n",
    "\n",
    "vector_original = calculate_document_vectors(X_2d_original)\n",
    "vector_PA = calculate_document_vectors(X_2d_PA)\n",
    "vector_PB = calculate_document_vectors(X_2d_PB)\n",
    "vector_PC = calculate_document_vectors(X_2d_PC)\n",
    "vector_PD = calculate_document_vectors(X_2d_PD)\n",
    "vector_PE = calculate_document_vectors(X_2d_PE)"
   ]
  },
  {
   "cell_type": "code",
   "execution_count": 42,
   "metadata": {},
   "outputs": [
    {
     "data": {
      "text/plain": [
       "array([0.47823233, 0.06491612])"
      ]
     },
     "execution_count": 42,
     "metadata": {},
     "output_type": "execute_result"
    }
   ],
   "source": [
    "vector_original"
   ]
  },
  {
   "cell_type": "markdown",
   "metadata": {},
   "source": [
    "### Calcul de similarité entre les documents"
   ]
  },
  {
   "cell_type": "code",
   "execution_count": 43,
   "metadata": {},
   "outputs": [],
   "source": [
    "euclidean_similarity_PA = 1 / (1 + distance.euclidean(vector_original, vector_PA))\n",
    "euclidean_similarity_PB = 1 / (1 + distance.euclidean(vector_original, vector_PB))\n",
    "euclidean_similarity_PC = 1 / (1 + distance.euclidean(vector_original, vector_PC))\n",
    "euclidean_similarity_PD = 1 / (1 + distance.euclidean(vector_original, vector_PD))\n",
    "euclidean_similarity_PE = 1 / (1 + distance.euclidean(vector_original, vector_PE))"
   ]
  },
  {
   "cell_type": "code",
   "execution_count": 47,
   "metadata": {},
   "outputs": [
    {
     "data": {
      "text/plain": [
       "0.9653685342076591"
      ]
     },
     "execution_count": 47,
     "metadata": {},
     "output_type": "execute_result"
    }
   ],
   "source": [
    "euclidean_similarity_PC"
   ]
  },
  {
   "cell_type": "code",
   "execution_count": 44,
   "metadata": {},
   "outputs": [],
   "source": [
    "cosine_similarity_PA = cosine_similarity([vector_original], [vector_PA])[0][0]\n",
    "cosine_similarity_PB = cosine_similarity([vector_original], [vector_PB])[0][0]\n",
    "cosine_similarity_PC = cosine_similarity([vector_original], [vector_PC])[0][0]\n",
    "cosine_similarity_PD = cosine_similarity([vector_original], [vector_PD])[0][0]\n",
    "cosine_similarity_PE = cosine_similarity([vector_original], [vector_PE])[0][0]"
   ]
  },
  {
   "cell_type": "code",
   "execution_count": 48,
   "metadata": {},
   "outputs": [
    {
     "data": {
      "text/plain": [
       "0.9998258305066605"
      ]
     },
     "execution_count": 48,
     "metadata": {},
     "output_type": "execute_result"
    }
   ],
   "source": [
    "cosine_similarity_PA"
   ]
  },
  {
   "cell_type": "markdown",
   "metadata": {},
   "source": [
    "## Exercice 2"
   ]
  },
  {
   "cell_type": "markdown",
   "metadata": {},
   "source": [
    "En se servant de la représentation vectorielle doc2vec, calculer les similarités entre les réponses des étudiants et les définitions trouvées sur Wikipédia."
   ]
  },
  {
   "cell_type": "code",
   "execution_count": 53,
   "metadata": {},
   "outputs": [],
   "source": [
    "# Créer des documents étiquetés pour chaque réponse\n",
    "tagged_data = []\n",
    "\n",
    "# Pour la réponse originale\n",
    "for i, doc in enumerate(df['Original']):\n",
    "    words = word_tokenize(doc.lower())\n",
    "    tagged_data.append(TaggedDocument(words=words, tags=[f'Original_{i}']))\n",
    "\n",
    "# Pour les réponses des étudiants\n",
    "for col in ['PA', 'PB', 'PC', 'PD', 'PE']:\n",
    "    for i, doc in enumerate(df[col]):\n",
    "        words = word_tokenize(doc.lower())\n",
    "        tagged_data.append(TaggedDocument(words=words, tags=[f'{col}_{i}']))"
   ]
  },
  {
   "cell_type": "code",
   "execution_count": 55,
   "metadata": {},
   "outputs": [
    {
     "data": {
      "text/plain": [
       "TaggedDocument(words=['in', 'probability', 'theory', ',', 'bayes', \"'\", 'theorem', '(', 'often', 'called', 'bayes', \"'\", 'law', 'after', 'rev', 'thomas', 'bayes', ')', 'relates', 'the', 'conditional', 'and', 'marginal', 'probabilities', 'of', 'two', 'random', 'events', '.', 'it', 'is', 'often', 'used', 'to', 'compute', 'posterior', 'probabilities', 'given', 'observations', '.', 'for', 'example', ',', 'a', 'patient', 'may', 'be', 'observed', 'to', 'have', 'certain', 'symptoms', '.', 'bayes', \"'\", 'theorem', 'can', 'be', 'used', 'to', 'compute', 'the', 'probability', 'that', 'a', 'proposed', 'diagnosis', 'is', 'correct', ',', 'given', 'that', 'observation', '.', '(', 'see', 'example', '2', ')', 'as', 'a', 'formal', 'theorem', ',', 'bayes', \"'\", 'theorem', 'is', 'valid', 'in', 'all', 'common', 'interpretations', 'of', 'probability', '.', 'however', ',', 'it', 'plays', 'a', 'central', 'role', 'in', 'the', 'debate', 'around', 'the', 'foundations', 'of', 'statistics', ':', 'frequentist', 'and', 'bayesian', 'interpretations', 'disagree', 'about', 'the', 'ways', 'in', 'which', 'probabilities', 'should', 'be', 'assigned', 'in', 'applications', '.', 'frequentists', 'assign', 'probabilities', 'to', 'random', 'events', 'according', 'to', 'their', 'frequencies', 'of', 'occurrence', 'or', 'to', 'subsets', 'of', 'populations', 'as', 'proportions', 'of', 'the', 'whole', ',', 'while', 'bayesians', 'describe', 'probabilities', 'in', 'terms', 'of', 'beliefs', 'and', 'degrees', 'of', 'uncertainty', '.', 'the', 'articles', 'on', 'bayesian', 'probability', 'and', 'frequentist', 'probability', 'discuss', 'these', 'debates', 'in', 'greater', 'detail', '.', 'bayes', \"'\", 'theorem', 'relates', 'the', 'conditional', 'and', 'marginal', 'probabilities', 'of', 'events', 'a', 'and', 'b', ',', 'where', 'b', 'has', 'a', 'non-vanishing', 'probability', ':', 'p', '(', 'a|b', ')', '=', '\\\\frac', '{', 'p', '(', 'b', '|', 'a', ')', '\\\\', ',', 'p', '(', 'a', ')', '}', '{', 'p', '(', 'b', ')', '}', '.', 'each', 'term', 'in', 'bayes', \"'\", 'theorem', 'has', 'a', 'conventional', 'name', ':', '*', 'p', '(', 'a', ')', 'is', 'the', 'prior', 'probability', 'or', 'marginal', 'probability', 'of', 'a.', 'it', 'is', '``', 'prior', \"''\", 'in', 'the', 'sense', 'that', 'it', 'does', 'not', 'take', 'into', 'account', 'any', 'information', 'about', 'b', '.', '*', 'p', '(', 'a|b', ')', 'is', 'the', 'conditional', 'probability', 'of', 'a', ',', 'given', 'b.', 'it', 'is', 'also', 'called', 'the', 'posterior', 'probability', 'because', 'it', 'is', 'derived', 'from', 'or', 'depends', 'upon', 'the', 'specified', 'value', 'of', 'b', '.', '*', 'p', '(', 'b|a', ')', 'is', 'the', 'conditional', 'probability', 'of', 'b', 'given', 'a', '.', '*', 'p', '(', 'b', ')', 'is', 'the', 'prior', 'or', 'marginal', 'probability', 'of', 'b', ',', 'and', 'acts', 'as', 'a', 'normalizing', 'constant', '.', 'intuitively', ',', 'bayes', \"'\", 'theorem', 'in', 'this', 'form', 'describes', 'the', 'way', 'in', 'which', 'one', \"'s\", 'beliefs', 'about', 'observing', \"'\", 'a', \"'\", 'are', 'updated', 'by', 'having', 'observed', \"'\", 'b', \"'\", '.'], tags=['Original_0'])"
      ]
     },
     "execution_count": 55,
     "metadata": {},
     "output_type": "execute_result"
    }
   ],
   "source": [
    "tagged_data[0]"
   ]
  },
  {
   "cell_type": "markdown",
   "metadata": {},
   "source": [
    "### Le modele Doc2vec"
   ]
  },
  {
   "cell_type": "code",
   "execution_count": 56,
   "metadata": {},
   "outputs": [],
   "source": [
    "from gensim.models import Doc2Vec\n",
    "\n",
    "model = Doc2Vec(vector_size=100, window=2, min_count=1, workers=4, epochs=100)\n",
    "model.build_vocab(tagged_data)\n",
    "model.train(tagged_data, total_examples=model.corpus_count, epochs=model.epochs)"
   ]
  },
  {
   "cell_type": "markdown",
   "metadata": {},
   "source": [
    "### Embedding des differents documents"
   ]
  },
  {
   "cell_type": "code",
   "execution_count": 72,
   "metadata": {},
   "outputs": [
    {
     "name": "stdout",
     "output_type": "stream",
     "text": [
      "Dimension de vector_original: (5, 100)\n",
      "Dimension de vector_PA: (5, 100)\n",
      "Dimension de vector_PB: (5, 100)\n",
      "Dimension de vector_PC: (5, 100)\n",
      "Dimension de vector_PD: (5, 100)\n",
      "Dimension de vector_PE: (5, 100)\n"
     ]
    }
   ],
   "source": [
    "# Obtenir les représentations vectorielles des documents\n",
    "vectors = [model.dv[f'{col}_{i}'] for col in ['Original', 'PA', 'PB', 'PC', 'PD', 'PE'] for i in range(len(df))]\n",
    "# Convertir la liste en tableau numpy pour le redimensionnement\n",
    "num_elements = len(df)\n",
    "\n",
    "# Extraire les vecteurs pour chaque élément\n",
    "vector_original = np.array(vectors[0:num_elements])\n",
    "vector_PA = np.array(vectors[num_elements:num_elements*2])\n",
    "vector_PB = np.array(vectors[num_elements*2:num_elements*3])\n",
    "vector_PC = np.array(vectors[num_elements*3:num_elements*4])\n",
    "vector_PD = np.array(vectors[num_elements*4:num_elements*5])\n",
    "vector_PE = np.array(vectors[num_elements*5:num_elements*6])\n",
    "\n",
    "# Afficher les dimensions des vecteurs\n",
    "print(\"Dimension de vector_original:\", vector_original.shape)\n",
    "print(\"Dimension de vector_PA:\", vector_PA.shape)\n",
    "print(\"Dimension de vector_PB:\", vector_PB.shape)\n",
    "print(\"Dimension de vector_PC:\", vector_PC.shape)\n",
    "print(\"Dimension de vector_PD:\", vector_PD.shape)\n",
    "print(\"Dimension de vector_PE:\", vector_PE.shape)\n"
   ]
  },
  {
   "cell_type": "markdown",
   "metadata": {},
   "source": [
    "### Calcul de similarités à partir des embeddings Doc2vec"
   ]
  },
  {
   "cell_type": "code",
   "execution_count": 75,
   "metadata": {},
   "outputs": [],
   "source": [
    "from sklearn.metrics.pairwise import cosine_similarity\n",
    "\n",
    "# Calculer la similarité cosinus entre l'original et chaque réponse d'étudiant\n",
    "similarity_PA = cosine_similarity(vector_original, vector_PA)\n",
    "similarity_PB = cosine_similarity(vector_original, vector_PB)\n",
    "similarity_PC = cosine_similarity(vector_original, vector_PC)\n",
    "similarity_PD = cosine_similarity(vector_original, vector_PD)\n",
    "similarity_PE = cosine_similarity(vector_original, vector_PE)"
   ]
  },
  {
   "cell_type": "code",
   "execution_count": 76,
   "metadata": {},
   "outputs": [
    {
     "data": {
      "text/plain": [
       "array([[0.19169417, 0.35748935, 0.31721944, 0.67916125, 0.30661568],\n",
       "       [0.30058166, 0.44330508, 0.346998  , 0.19033158, 0.13615587],\n",
       "       [0.3059269 , 0.34594026, 0.96822774, 0.17895444, 0.2659827 ],\n",
       "       [0.4061331 , 0.27296427, 0.3586547 , 0.2380539 , 0.33521232],\n",
       "       [0.23362912, 0.20123313, 0.2627501 , 0.24062857, 0.9172955 ]],\n",
       "      dtype=float32)"
      ]
     },
     "execution_count": 76,
     "metadata": {},
     "output_type": "execute_result"
    }
   ],
   "source": [
    "similarity_PA"
   ]
  },
  {
   "cell_type": "code",
   "execution_count": null,
   "metadata": {},
   "outputs": [],
   "source": []
  }
 ],
 "metadata": {
  "kernelspec": {
   "display_name": "base",
   "language": "python",
   "name": "python3"
  },
  "language_info": {
   "codemirror_mode": {
    "name": "ipython",
    "version": 3
   },
   "file_extension": ".py",
   "mimetype": "text/x-python",
   "name": "python",
   "nbconvert_exporter": "python",
   "pygments_lexer": "ipython3",
   "version": "3.11.5"
  }
 },
 "nbformat": 4,
 "nbformat_minor": 2
}
